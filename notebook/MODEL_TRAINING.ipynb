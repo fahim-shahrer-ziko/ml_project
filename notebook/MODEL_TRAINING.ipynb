{
 "cells": [
  {
   "cell_type": "code",
   "execution_count": 1,
   "metadata": {},
   "outputs": [],
   "source": [
    "# Basic Import\n",
    "import numpy as np\n",
    "import pandas as pd\n",
    "import matplotlib.pyplot as plt\n",
    "import seaborn as sns\n",
    "%matplotlib inline\n",
    "\n",
    "# Modeling\n",
    "from sklearn.metrics import r2_score,mean_absolute_error,mean_squared_error,root_mean_squared_error\n",
    "from sklearn.tree import DecisionTreeRegressor\n",
    "from sklearn.neighbors import KNeighborsRegressor\n",
    "from sklearn.linear_model import LinearRegression, Ridge, Lasso, ElasticNet\n",
    "from sklearn.ensemble import AdaBoostRegressor, RandomForestRegressor\n",
    "from sklearn.model_selection import train_test_split, RandomizedSearchCV\n",
    "from sklearn.svm import SVR\n",
    "from catboost import CatBoostRegressor\n",
    "from xgboost import XGBRegressor\n",
    "from warnings import filterwarnings"
   ]
  },
  {
   "cell_type": "code",
   "execution_count": 2,
   "metadata": {},
   "outputs": [],
   "source": [
    "df = pd.read_csv('data/stud.csv')"
   ]
  },
  {
   "cell_type": "code",
   "execution_count": 3,
   "metadata": {},
   "outputs": [
    {
     "data": {
      "text/html": [
       "<div>\n",
       "<style scoped>\n",
       "    .dataframe tbody tr th:only-of-type {\n",
       "        vertical-align: middle;\n",
       "    }\n",
       "\n",
       "    .dataframe tbody tr th {\n",
       "        vertical-align: top;\n",
       "    }\n",
       "\n",
       "    .dataframe thead th {\n",
       "        text-align: right;\n",
       "    }\n",
       "</style>\n",
       "<table border=\"1\" class=\"dataframe\">\n",
       "  <thead>\n",
       "    <tr style=\"text-align: right;\">\n",
       "      <th></th>\n",
       "      <th>gender</th>\n",
       "      <th>race_ethnicity</th>\n",
       "      <th>parental_level_of_education</th>\n",
       "      <th>lunch</th>\n",
       "      <th>test_preparation_course</th>\n",
       "      <th>math_score</th>\n",
       "      <th>reading_score</th>\n",
       "      <th>writing_score</th>\n",
       "    </tr>\n",
       "  </thead>\n",
       "  <tbody>\n",
       "    <tr>\n",
       "      <th>0</th>\n",
       "      <td>female</td>\n",
       "      <td>group B</td>\n",
       "      <td>bachelor's degree</td>\n",
       "      <td>standard</td>\n",
       "      <td>none</td>\n",
       "      <td>72</td>\n",
       "      <td>72</td>\n",
       "      <td>74</td>\n",
       "    </tr>\n",
       "    <tr>\n",
       "      <th>1</th>\n",
       "      <td>female</td>\n",
       "      <td>group C</td>\n",
       "      <td>some college</td>\n",
       "      <td>standard</td>\n",
       "      <td>completed</td>\n",
       "      <td>69</td>\n",
       "      <td>90</td>\n",
       "      <td>88</td>\n",
       "    </tr>\n",
       "    <tr>\n",
       "      <th>2</th>\n",
       "      <td>female</td>\n",
       "      <td>group B</td>\n",
       "      <td>master's degree</td>\n",
       "      <td>standard</td>\n",
       "      <td>none</td>\n",
       "      <td>90</td>\n",
       "      <td>95</td>\n",
       "      <td>93</td>\n",
       "    </tr>\n",
       "    <tr>\n",
       "      <th>3</th>\n",
       "      <td>male</td>\n",
       "      <td>group A</td>\n",
       "      <td>associate's degree</td>\n",
       "      <td>free/reduced</td>\n",
       "      <td>none</td>\n",
       "      <td>47</td>\n",
       "      <td>57</td>\n",
       "      <td>44</td>\n",
       "    </tr>\n",
       "    <tr>\n",
       "      <th>4</th>\n",
       "      <td>male</td>\n",
       "      <td>group C</td>\n",
       "      <td>some college</td>\n",
       "      <td>standard</td>\n",
       "      <td>none</td>\n",
       "      <td>76</td>\n",
       "      <td>78</td>\n",
       "      <td>75</td>\n",
       "    </tr>\n",
       "  </tbody>\n",
       "</table>\n",
       "</div>"
      ],
      "text/plain": [
       "   gender race_ethnicity parental_level_of_education         lunch  \\\n",
       "0  female        group B           bachelor's degree      standard   \n",
       "1  female        group C                some college      standard   \n",
       "2  female        group B             master's degree      standard   \n",
       "3    male        group A          associate's degree  free/reduced   \n",
       "4    male        group C                some college      standard   \n",
       "\n",
       "  test_preparation_course  math_score  reading_score  writing_score  \n",
       "0                    none          72             72             74  \n",
       "1               completed          69             90             88  \n",
       "2                    none          90             95             93  \n",
       "3                    none          47             57             44  \n",
       "4                    none          76             78             75  "
      ]
     },
     "execution_count": 3,
     "metadata": {},
     "output_type": "execute_result"
    }
   ],
   "source": [
    "df.head()"
   ]
  },
  {
   "cell_type": "code",
   "execution_count": 4,
   "metadata": {},
   "outputs": [],
   "source": [
    "X = df.drop('math_score',axis=1)"
   ]
  },
  {
   "cell_type": "code",
   "execution_count": 5,
   "metadata": {},
   "outputs": [],
   "source": [
    "y=df['math_score']"
   ]
  },
  {
   "cell_type": "code",
   "execution_count": 6,
   "metadata": {},
   "outputs": [],
   "source": [
    "num_feature = X.select_dtypes(exclude='object').columns\n",
    "cat_feature = X.select_dtypes(include='object').columns\n",
    "\n",
    "from sklearn.preprocessing import OneHotEncoder,StandardScaler\n",
    "from sklearn.compose import ColumnTransformer\n",
    "\n",
    "numeric_tranformer = StandardScaler()\n",
    "oh_trasformer = OneHotEncoder()\n",
    "\n",
    "preprocessor = ColumnTransformer(\n",
    "    [\n",
    "        ('OneHotEncoder',oh_trasformer,cat_feature),\n",
    "        ('StanderScaler',numeric_tranformer,num_feature)\n",
    "    ]\n",
    ")"
   ]
  },
  {
   "cell_type": "code",
   "execution_count": 17,
   "metadata": {},
   "outputs": [
    {
     "data": {
      "text/plain": [
       "Index(['reading_score', 'writing_score'], dtype='object')"
      ]
     },
     "execution_count": 17,
     "metadata": {},
     "output_type": "execute_result"
    }
   ],
   "source": [
    "num_feature"
   ]
  },
  {
   "cell_type": "code",
   "execution_count": 18,
   "metadata": {},
   "outputs": [
    {
     "data": {
      "text/plain": [
       "Index(['gender', 'race_ethnicity', 'parental_level_of_education', 'lunch',\n",
       "       'test_preparation_course'],\n",
       "      dtype='object')"
      ]
     },
     "execution_count": 18,
     "metadata": {},
     "output_type": "execute_result"
    }
   ],
   "source": [
    "cat_feature"
   ]
  },
  {
   "cell_type": "code",
   "execution_count": 7,
   "metadata": {},
   "outputs": [],
   "source": [
    "X=preprocessor.fit_transform(X)"
   ]
  },
  {
   "cell_type": "code",
   "execution_count": 8,
   "metadata": {},
   "outputs": [],
   "source": [
    "X_train,X_test,y_train,y_test = train_test_split(X,y,test_size=0.2,random_state=42)"
   ]
  },
  {
   "cell_type": "code",
   "execution_count": 9,
   "metadata": {},
   "outputs": [
    {
     "data": {
      "text/plain": [
       "(800, 19)"
      ]
     },
     "execution_count": 9,
     "metadata": {},
     "output_type": "execute_result"
    }
   ],
   "source": [
    "X_train.shape"
   ]
  },
  {
   "cell_type": "markdown",
   "metadata": {},
   "source": [
    "### Model Evaluation"
   ]
  },
  {
   "cell_type": "code",
   "execution_count": 10,
   "metadata": {},
   "outputs": [],
   "source": [
    "def model_evaluation(true,predict):\n",
    "    mae = mean_absolute_error(true,predict)\n",
    "    mse = mean_squared_error(true,predict)\n",
    "    r2_square = r2_score(true,predict)\n",
    "    \n",
    "    return mae,mse,r2_square \n",
    "    "
   ]
  },
  {
   "cell_type": "code",
   "execution_count": 11,
   "metadata": {},
   "outputs": [
    {
     "name": "stdout",
     "output_type": "stream",
     "text": [
      "LinearRegression\n",
      "Model Performance for Training Dataset\n",
      "- Mean Square Error 28.33487038064859\n",
      "- Mean Absolute Error 4.266711846071957\n",
      "- R2_square 0.8743172040139593\n",
      "------------------------------\n",
      "Model Performance for Test Dataset\n",
      "- Mean Square Error 29.095169866715487\n",
      "- Mean Absolute Error 4.21476314247485\n",
      "- R2_square 0.8804332983749565\n",
      "------------------------------\n",
      "==============================\n",
      "\n",
      "\n",
      "Ridge\n",
      "Model Performance for Training Dataset\n",
      "- Mean Square Error 28.337788233082442\n",
      "- Mean Absolute Error 4.26498782372598\n",
      "- R2_square 0.8743042615212909\n",
      "------------------------------\n",
      "Model Performance for Test Dataset\n",
      "- Mean Square Error 29.056272192348274\n",
      "- Mean Absolute Error 4.211100688014259\n",
      "- R2_square 0.8805931485028738\n",
      "------------------------------\n",
      "==============================\n",
      "\n",
      "\n",
      "Lasso\n",
      "Model Performance for Training Dataset\n",
      "- Mean Square Error 43.47840400585579\n",
      "- Mean Absolute Error 5.206302661246526\n",
      "- R2_square 0.8071462015863456\n",
      "------------------------------\n",
      "Model Performance for Test Dataset\n",
      "- Mean Square Error 42.5064168384116\n",
      "- Mean Absolute Error 5.157881810347763\n",
      "- R2_square 0.8253197323627853\n",
      "------------------------------\n",
      "==============================\n",
      "\n",
      "\n",
      "ElasticNet\n",
      "Model Performance for Training Dataset\n",
      "- Mean Square Error 60.018938128256735\n",
      "- Mean Absolute Error 6.17007012705435\n",
      "- R2_square 0.7337786319564656\n",
      "------------------------------\n",
      "Model Performance for Test Dataset\n",
      "- Mean Square Error 63.35941636178532\n",
      "- Mean Absolute Error 6.390111785692222\n",
      "- R2_square 0.7396242583916663\n",
      "------------------------------\n",
      "==============================\n",
      "\n",
      "\n",
      "DecisionTreeRegression\n",
      "Model Performance for Training Dataset\n",
      "- Mean Square Error 0.078125\n",
      "- Mean Absolute Error 0.01875\n",
      "- R2_square 0.9996534669718089\n",
      "------------------------------\n",
      "Model Performance for Test Dataset\n",
      "- Mean Square Error 62.985\n",
      "- Mean Absolute Error 6.225\n",
      "- R2_square 0.7411629237309032\n",
      "------------------------------\n",
      "==============================\n",
      "\n",
      "\n",
      "KNearestNeighbour\n",
      "Model Performance for Training Dataset\n",
      "- Mean Square Error 32.593399999999995\n",
      "- Mean Absolute Error 4.5175\n",
      "- R2_square 0.8554279731066252\n",
      "------------------------------\n",
      "Model Performance for Test Dataset\n",
      "- Mean Square Error 52.6834\n",
      "- Mean Absolute Error 5.6370000000000005\n",
      "- R2_square 0.7834973847119895\n",
      "------------------------------\n",
      "==============================\n",
      "\n",
      "\n",
      "AdaboostRegressor\n",
      "Model Performance for Training Dataset\n",
      "- Mean Square Error 34.80497222452449\n",
      "- Mean Absolute Error 4.8354123731579355\n",
      "- R2_square 0.8456182730102684\n",
      "------------------------------\n",
      "Model Performance for Test Dataset\n",
      "- Mean Square Error 36.33042521248575\n",
      "- Mean Absolute Error 4.648703695539146\n",
      "- R2_square 0.8506999914009226\n",
      "------------------------------\n",
      "==============================\n",
      "\n",
      "\n",
      "RandomForestRegressor\n",
      "Model Performance for Training Dataset\n",
      "- Mean Square Error 5.217737334289966\n",
      "- Mean Absolute Error 1.8187669642857145\n",
      "- R2_square 0.9768560855199048\n",
      "------------------------------\n",
      "Model Performance for Test Dataset\n",
      "- Mean Square Error 36.513954839852616\n",
      "- Mean Absolute Error 4.673841666666666\n",
      "- R2_square 0.8499457757597954\n",
      "------------------------------\n",
      "==============================\n",
      "\n",
      "\n",
      "SVR\n",
      "Model Performance for Training Dataset\n",
      "- Mean Square Error 43.257024268031365\n",
      "- Mean Absolute Error 4.869189452384867\n",
      "- R2_square 0.8081281585902299\n",
      "------------------------------\n",
      "Model Performance for Test Dataset\n",
      "- Mean Square Error 66.04200493745648\n",
      "- Mean Absolute Error 5.4015392444969965\n",
      "- R2_square 0.7286001513223705\n",
      "------------------------------\n",
      "==============================\n",
      "\n",
      "\n",
      "CatBoostRegressor\n",
      "Model Performance for Training Dataset\n",
      "- Mean Square Error 9.257805405523678\n",
      "- Mean Absolute Error 2.405393926779502\n",
      "- R2_square 0.9589358676277713\n",
      "------------------------------\n",
      "Model Performance for Test Dataset\n",
      "- Mean Square Error 36.10365799356841\n",
      "- Mean Absolute Error 4.612531714976557\n",
      "- R2_square 0.8516318920747058\n",
      "------------------------------\n",
      "==============================\n",
      "\n",
      "\n",
      "XgboostRegressor\n",
      "Model Performance for Training Dataset\n",
      "- Mean Square Error 1.0146163702011108\n",
      "- Mean Absolute Error 0.687466561794281\n",
      "- R2_square 0.9954995512962341\n",
      "------------------------------\n",
      "Model Performance for Test Dataset\n",
      "- Mean Square Error 41.90370559692383\n",
      "- Mean Absolute Error 5.057730674743652\n",
      "- R2_square 0.8277965784072876\n",
      "------------------------------\n",
      "==============================\n",
      "\n",
      "\n"
     ]
    }
   ],
   "source": [
    "models={\n",
    "    'LinearRegression' : LinearRegression(),\n",
    "    'Ridge' : Ridge(),\n",
    "    'Lasso' : Lasso(),\n",
    "    'ElasticNet' : ElasticNet(),\n",
    "    'DecisionTreeRegression' : DecisionTreeRegressor(),\n",
    "    'KNearestNeighbour' : KNeighborsRegressor(),\n",
    "    'AdaboostRegressor' : AdaBoostRegressor(),\n",
    "    'RandomForestRegressor' : RandomForestRegressor(),\n",
    "    'SVR' : SVR(),\n",
    "    'CatBoostRegressor' : CatBoostRegressor(verbose=False),\n",
    "    'XgboostRegressor' : XGBRegressor()\n",
    "}\n",
    "\n",
    "\n",
    "model_list = []\n",
    "r2_list = []\n",
    "\n",
    "for i in range(len(list(models))):\n",
    "    model = list(models.values())[i]\n",
    "    model.fit(X_train,y_train) # Train Model\n",
    "    \n",
    "    # Make Prediction\n",
    "    y_train_predict = model.predict(X_train)\n",
    "    y_test_predict = model.predict(X_test)\n",
    "    \n",
    "    # Evaluate Model Train and Test\n",
    "    model_train_mae,model_train_mse,model_train_r2_square = model_evaluation(y_train,y_train_predict)\n",
    "    model_test_mae,model_test_mse,model_test_r2_square = model_evaluation(y_test,y_test_predict)\n",
    "    \n",
    "    print(list(models.keys())[i])\n",
    "    model_list.append(list(models.keys())[i])\n",
    "    \n",
    "    print('Model Performance for Training Dataset')\n",
    "    print(f'- Mean Square Error {model_train_mse}')\n",
    "    print(f'- Mean Absolute Error {model_train_mae}')\n",
    "    print(f'- R2_square {model_train_r2_square}')\n",
    "    \n",
    "    print('------------------------------')\n",
    "    \n",
    "    print('Model Performance for Test Dataset')\n",
    "    print(f'- Mean Square Error {model_test_mse}')\n",
    "    print(f'- Mean Absolute Error {model_test_mae}')\n",
    "    print(f'- R2_square {model_test_r2_square}')\n",
    "    \n",
    "    print('------------------------------')\n",
    "    r2_list.append(model_test_r2_square)\n",
    "    \n",
    "    print('='*30)\n",
    "    print('\\n')\n",
    "    "
   ]
  },
  {
   "cell_type": "code",
   "execution_count": 12,
   "metadata": {},
   "outputs": [
    {
     "data": {
      "text/html": [
       "<div>\n",
       "<style scoped>\n",
       "    .dataframe tbody tr th:only-of-type {\n",
       "        vertical-align: middle;\n",
       "    }\n",
       "\n",
       "    .dataframe tbody tr th {\n",
       "        vertical-align: top;\n",
       "    }\n",
       "\n",
       "    .dataframe thead th {\n",
       "        text-align: right;\n",
       "    }\n",
       "</style>\n",
       "<table border=\"1\" class=\"dataframe\">\n",
       "  <thead>\n",
       "    <tr style=\"text-align: right;\">\n",
       "      <th></th>\n",
       "      <th>Model Name</th>\n",
       "      <th>R2 Score</th>\n",
       "    </tr>\n",
       "  </thead>\n",
       "  <tbody>\n",
       "    <tr>\n",
       "      <th>1</th>\n",
       "      <td>Ridge</td>\n",
       "      <td>0.880593</td>\n",
       "    </tr>\n",
       "    <tr>\n",
       "      <th>0</th>\n",
       "      <td>LinearRegression</td>\n",
       "      <td>0.880433</td>\n",
       "    </tr>\n",
       "    <tr>\n",
       "      <th>9</th>\n",
       "      <td>CatBoostRegressor</td>\n",
       "      <td>0.851632</td>\n",
       "    </tr>\n",
       "    <tr>\n",
       "      <th>6</th>\n",
       "      <td>AdaboostRegressor</td>\n",
       "      <td>0.850700</td>\n",
       "    </tr>\n",
       "    <tr>\n",
       "      <th>7</th>\n",
       "      <td>RandomForestRegressor</td>\n",
       "      <td>0.849946</td>\n",
       "    </tr>\n",
       "    <tr>\n",
       "      <th>10</th>\n",
       "      <td>XgboostRegressor</td>\n",
       "      <td>0.827797</td>\n",
       "    </tr>\n",
       "    <tr>\n",
       "      <th>2</th>\n",
       "      <td>Lasso</td>\n",
       "      <td>0.825320</td>\n",
       "    </tr>\n",
       "    <tr>\n",
       "      <th>5</th>\n",
       "      <td>KNearestNeighbour</td>\n",
       "      <td>0.783497</td>\n",
       "    </tr>\n",
       "    <tr>\n",
       "      <th>4</th>\n",
       "      <td>DecisionTreeRegression</td>\n",
       "      <td>0.741163</td>\n",
       "    </tr>\n",
       "    <tr>\n",
       "      <th>3</th>\n",
       "      <td>ElasticNet</td>\n",
       "      <td>0.739624</td>\n",
       "    </tr>\n",
       "    <tr>\n",
       "      <th>8</th>\n",
       "      <td>SVR</td>\n",
       "      <td>0.728600</td>\n",
       "    </tr>\n",
       "  </tbody>\n",
       "</table>\n",
       "</div>"
      ],
      "text/plain": [
       "                Model Name  R2 Score\n",
       "1                    Ridge  0.880593\n",
       "0         LinearRegression  0.880433\n",
       "9        CatBoostRegressor  0.851632\n",
       "6        AdaboostRegressor  0.850700\n",
       "7    RandomForestRegressor  0.849946\n",
       "10        XgboostRegressor  0.827797\n",
       "2                    Lasso  0.825320\n",
       "5        KNearestNeighbour  0.783497\n",
       "4   DecisionTreeRegression  0.741163\n",
       "3               ElasticNet  0.739624\n",
       "8                      SVR  0.728600"
      ]
     },
     "execution_count": 12,
     "metadata": {},
     "output_type": "execute_result"
    }
   ],
   "source": [
    "pd.DataFrame(list(zip(model_list,r2_list)),columns=['Model Name','R2 Score']).sort_values(by='R2 Score',ascending=False)"
   ]
  },
  {
   "cell_type": "markdown",
   "metadata": {},
   "source": [
    "### Linear Regression"
   ]
  },
  {
   "cell_type": "code",
   "execution_count": 13,
   "metadata": {},
   "outputs": [
    {
     "name": "stdout",
     "output_type": "stream",
     "text": [
      "Accuracy Score 88.04332983749565\n"
     ]
    }
   ],
   "source": [
    "linear_model = LinearRegression()\n",
    "linear_model=linear_model.fit(X_train,y_train)\n",
    "y_predict = linear_model.predict(X_test)\n",
    "score = r2_score(y_test,y_predict)*100\n",
    "print(f'Accuracy Score {score}')"
   ]
  },
  {
   "cell_type": "markdown",
   "metadata": {},
   "source": [
    "### Plot y_pred vs y_test"
   ]
  },
  {
   "cell_type": "code",
   "execution_count": 14,
   "metadata": {},
   "outputs": [
    {
     "data": {
      "image/png": "[encoded data removed]",
      "text/plain": [
       "<Figure size 640x480 with 1 Axes>"
      ]
     },
     "metadata": {},
     "output_type": "display_data"
    }
   ],
   "source": [
    "plt.scatter(y_test,y_predict)\n",
    "plt.xlabel('Actuall')\n",
    "plt.ylabel('Predicted')\n",
    "plt.show()"
   ]
  },
  {
   "cell_type": "code",
   "execution_count": 15,
   "metadata": {},
   "outputs": [
    {
     "data": {
      "image/png": "[encoded data removed]",
      "text/plain": [
       "<Figure size 640x480 with 1 Axes>"
      ]
     },
     "metadata": {},
     "output_type": "display_data"
    }
   ],
   "source": [
    "sns.regplot(x=y_test,y=y_predict,ci=None,color='red')\n",
    "plt.xlabel('Actual')\n",
    "plt.ylabel('Predicted')\n",
    "plt.show()"
   ]
  },
  {
   "cell_type": "markdown",
   "metadata": {},
   "source": [
    "#### Difference between Actual and Predicted Values"
   ]
  },
  {
   "cell_type": "code",
   "execution_count": 16,
   "metadata": {},
   "outputs": [
    {
     "data": {
      "text/html": [
       "<div>\n",
       "<style scoped>\n",
       "    .dataframe tbody tr th:only-of-type {\n",
       "        vertical-align: middle;\n",
       "    }\n",
       "\n",
       "    .dataframe tbody tr th {\n",
       "        vertical-align: top;\n",
       "    }\n",
       "\n",
       "    .dataframe thead th {\n",
       "        text-align: right;\n",
       "    }\n",
       "</style>\n",
       "<table border=\"1\" class=\"dataframe\">\n",
       "  <thead>\n",
       "    <tr style=\"text-align: right;\">\n",
       "      <th></th>\n",
       "      <th>Actual Value</th>\n",
       "      <th>Predicted Value</th>\n",
       "      <th>Difference</th>\n",
       "    </tr>\n",
       "  </thead>\n",
       "  <tbody>\n",
       "    <tr>\n",
       "      <th>521</th>\n",
       "      <td>91</td>\n",
       "      <td>76.387970</td>\n",
       "      <td>14.612030</td>\n",
       "    </tr>\n",
       "    <tr>\n",
       "      <th>737</th>\n",
       "      <td>53</td>\n",
       "      <td>58.885970</td>\n",
       "      <td>-5.885970</td>\n",
       "    </tr>\n",
       "    <tr>\n",
       "      <th>740</th>\n",
       "      <td>80</td>\n",
       "      <td>76.990265</td>\n",
       "      <td>3.009735</td>\n",
       "    </tr>\n",
       "    <tr>\n",
       "      <th>660</th>\n",
       "      <td>74</td>\n",
       "      <td>76.851804</td>\n",
       "      <td>-2.851804</td>\n",
       "    </tr>\n",
       "    <tr>\n",
       "      <th>411</th>\n",
       "      <td>84</td>\n",
       "      <td>87.627378</td>\n",
       "      <td>-3.627378</td>\n",
       "    </tr>\n",
       "    <tr>\n",
       "      <th>...</th>\n",
       "      <td>...</td>\n",
       "      <td>...</td>\n",
       "      <td>...</td>\n",
       "    </tr>\n",
       "    <tr>\n",
       "      <th>408</th>\n",
       "      <td>52</td>\n",
       "      <td>43.409149</td>\n",
       "      <td>8.590851</td>\n",
       "    </tr>\n",
       "    <tr>\n",
       "      <th>332</th>\n",
       "      <td>62</td>\n",
       "      <td>62.152214</td>\n",
       "      <td>-0.152214</td>\n",
       "    </tr>\n",
       "    <tr>\n",
       "      <th>208</th>\n",
       "      <td>74</td>\n",
       "      <td>67.888395</td>\n",
       "      <td>6.111605</td>\n",
       "    </tr>\n",
       "    <tr>\n",
       "      <th>613</th>\n",
       "      <td>65</td>\n",
       "      <td>67.022287</td>\n",
       "      <td>-2.022287</td>\n",
       "    </tr>\n",
       "    <tr>\n",
       "      <th>78</th>\n",
       "      <td>61</td>\n",
       "      <td>62.345132</td>\n",
       "      <td>-1.345132</td>\n",
       "    </tr>\n",
       "  </tbody>\n",
       "</table>\n",
       "<p>200 rows × 3 columns</p>\n",
       "</div>"
      ],
      "text/plain": [
       "     Actual Value  Predicted Value  Difference\n",
       "521            91        76.387970   14.612030\n",
       "737            53        58.885970   -5.885970\n",
       "740            80        76.990265    3.009735\n",
       "660            74        76.851804   -2.851804\n",
       "411            84        87.627378   -3.627378\n",
       "..            ...              ...         ...\n",
       "408            52        43.409149    8.590851\n",
       "332            62        62.152214   -0.152214\n",
       "208            74        67.888395    6.111605\n",
       "613            65        67.022287   -2.022287\n",
       "78             61        62.345132   -1.345132\n",
       "\n",
       "[200 rows x 3 columns]"
      ]
     },
     "execution_count": 16,
     "metadata": {},
     "output_type": "execute_result"
    }
   ],
   "source": [
    "pred_df=pd.DataFrame({'Actual Value':y_test,'Predicted Value':y_predict,'Difference':y_test-y_predict})\n",
    "pred_df"
   ]
  },
  {
   "cell_type": "code",
   "execution_count": null,
   "metadata": {},
   "outputs": [],
   "source": []
  }
 ],
 "metadata": {
  "kernelspec": {
   "display_name": "Python 3",
   "language": "python",
   "name": "python3"
  },
  "language_info": {
   "codemirror_mode": {
    "name": "ipython",
    "version": 3
   },
   "file_extension": ".py",
   "mimetype": "text/x-python",
   "name": "python",
   "nbconvert_exporter": "python",
   "pygments_lexer": "ipython3",
   "version": "3.12.9"
  }
 },
 "nbformat": 4,
 "nbformat_minor": 2
}
